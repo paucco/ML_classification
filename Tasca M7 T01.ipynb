{
 "cells": [
  {
   "cell_type": "markdown",
   "id": "1c2c0c9c",
   "metadata": {},
   "source": [
    "## Tasca M7 T01"
   ]
  },
  {
   "cell_type": "markdown",
   "id": "c802795a",
   "metadata": {},
   "source": [
    "### Exercici 1\n",
    "***\n",
    "Crea almenys dos models de classificació diferents per intentar predir el millor les classes de l'arxiu adjunt."
   ]
  },
  {
   "cell_type": "code",
   "execution_count": 1,
   "id": "2cbc4e63",
   "metadata": {},
   "outputs": [],
   "source": [
    "import pandas as pd\n",
    "import numpy as np\n",
    "import matplotlib.pyplot as plt\n",
    "import seaborn as sns\n",
    "\n",
    "from sklearn.preprocessing import MinMaxScaler\n",
    "from sklearn.preprocessing import RobustScaler\n",
    "\n",
    "from sklearn.model_selection import train_test_split\n",
    "\n",
    "from sklearn.linear_model import LinearRegression\n",
    "\n",
    "from sklearn.model_selection import GridSearchCV\n",
    "from sklearn.model_selection import cross_val_score\n",
    "\n",
    "from sklearn.neighbors import KNeighborsClassifier\n",
    "from sklearn.tree import DecisionTreeClassifier\n",
    "from sklearn.metrics import accuracy_score, confusion_matrix, classification_report"
   ]
  },
  {
   "cell_type": "code",
   "execution_count": 2,
   "id": "e62fb5c2",
   "metadata": {},
   "outputs": [
    {
     "data": {
      "text/html": [
       "<div>\n",
       "<style scoped>\n",
       "    .dataframe tbody tr th:only-of-type {\n",
       "        vertical-align: middle;\n",
       "    }\n",
       "\n",
       "    .dataframe tbody tr th {\n",
       "        vertical-align: top;\n",
       "    }\n",
       "\n",
       "    .dataframe thead th {\n",
       "        text-align: right;\n",
       "    }\n",
       "</style>\n",
       "<table border=\"1\" class=\"dataframe\">\n",
       "  <thead>\n",
       "    <tr style=\"text-align: right;\">\n",
       "      <th></th>\n",
       "      <th>Class</th>\n",
       "      <th>Alcohol</th>\n",
       "      <th>Malic acid</th>\n",
       "      <th>Ash</th>\n",
       "      <th>Alcalinity of ash</th>\n",
       "      <th>Magnesium</th>\n",
       "      <th>Total phenols</th>\n",
       "      <th>Flavanoids</th>\n",
       "      <th>Nonflavanoid phenols</th>\n",
       "      <th>Proanthocyanins</th>\n",
       "      <th>Color intensity</th>\n",
       "      <th>Hue</th>\n",
       "      <th>OD280/OD315</th>\n",
       "      <th>Proline</th>\n",
       "    </tr>\n",
       "  </thead>\n",
       "  <tbody>\n",
       "    <tr>\n",
       "      <th>0</th>\n",
       "      <td>1</td>\n",
       "      <td>14.23</td>\n",
       "      <td>1.71</td>\n",
       "      <td>2.43</td>\n",
       "      <td>15.6</td>\n",
       "      <td>127</td>\n",
       "      <td>2.80</td>\n",
       "      <td>3.06</td>\n",
       "      <td>0.28</td>\n",
       "      <td>2.29</td>\n",
       "      <td>5.64</td>\n",
       "      <td>1.04</td>\n",
       "      <td>3.92</td>\n",
       "      <td>1065</td>\n",
       "    </tr>\n",
       "    <tr>\n",
       "      <th>1</th>\n",
       "      <td>1</td>\n",
       "      <td>13.20</td>\n",
       "      <td>1.78</td>\n",
       "      <td>2.14</td>\n",
       "      <td>11.2</td>\n",
       "      <td>100</td>\n",
       "      <td>2.65</td>\n",
       "      <td>2.76</td>\n",
       "      <td>0.26</td>\n",
       "      <td>1.28</td>\n",
       "      <td>4.38</td>\n",
       "      <td>1.05</td>\n",
       "      <td>3.40</td>\n",
       "      <td>1050</td>\n",
       "    </tr>\n",
       "    <tr>\n",
       "      <th>2</th>\n",
       "      <td>1</td>\n",
       "      <td>13.16</td>\n",
       "      <td>2.36</td>\n",
       "      <td>2.67</td>\n",
       "      <td>18.6</td>\n",
       "      <td>101</td>\n",
       "      <td>2.80</td>\n",
       "      <td>3.24</td>\n",
       "      <td>0.30</td>\n",
       "      <td>2.81</td>\n",
       "      <td>5.68</td>\n",
       "      <td>1.03</td>\n",
       "      <td>3.17</td>\n",
       "      <td>1185</td>\n",
       "    </tr>\n",
       "    <tr>\n",
       "      <th>3</th>\n",
       "      <td>1</td>\n",
       "      <td>14.37</td>\n",
       "      <td>1.95</td>\n",
       "      <td>2.50</td>\n",
       "      <td>16.8</td>\n",
       "      <td>113</td>\n",
       "      <td>3.85</td>\n",
       "      <td>3.49</td>\n",
       "      <td>0.24</td>\n",
       "      <td>2.18</td>\n",
       "      <td>7.80</td>\n",
       "      <td>0.86</td>\n",
       "      <td>3.45</td>\n",
       "      <td>1480</td>\n",
       "    </tr>\n",
       "    <tr>\n",
       "      <th>4</th>\n",
       "      <td>1</td>\n",
       "      <td>13.24</td>\n",
       "      <td>2.59</td>\n",
       "      <td>2.87</td>\n",
       "      <td>21.0</td>\n",
       "      <td>118</td>\n",
       "      <td>2.80</td>\n",
       "      <td>2.69</td>\n",
       "      <td>0.39</td>\n",
       "      <td>1.82</td>\n",
       "      <td>4.32</td>\n",
       "      <td>1.04</td>\n",
       "      <td>2.93</td>\n",
       "      <td>735</td>\n",
       "    </tr>\n",
       "    <tr>\n",
       "      <th>...</th>\n",
       "      <td>...</td>\n",
       "      <td>...</td>\n",
       "      <td>...</td>\n",
       "      <td>...</td>\n",
       "      <td>...</td>\n",
       "      <td>...</td>\n",
       "      <td>...</td>\n",
       "      <td>...</td>\n",
       "      <td>...</td>\n",
       "      <td>...</td>\n",
       "      <td>...</td>\n",
       "      <td>...</td>\n",
       "      <td>...</td>\n",
       "      <td>...</td>\n",
       "    </tr>\n",
       "    <tr>\n",
       "      <th>173</th>\n",
       "      <td>3</td>\n",
       "      <td>13.71</td>\n",
       "      <td>5.65</td>\n",
       "      <td>2.45</td>\n",
       "      <td>20.5</td>\n",
       "      <td>95</td>\n",
       "      <td>1.68</td>\n",
       "      <td>0.61</td>\n",
       "      <td>0.52</td>\n",
       "      <td>1.06</td>\n",
       "      <td>7.70</td>\n",
       "      <td>0.64</td>\n",
       "      <td>1.74</td>\n",
       "      <td>740</td>\n",
       "    </tr>\n",
       "    <tr>\n",
       "      <th>174</th>\n",
       "      <td>3</td>\n",
       "      <td>13.40</td>\n",
       "      <td>3.91</td>\n",
       "      <td>2.48</td>\n",
       "      <td>23.0</td>\n",
       "      <td>102</td>\n",
       "      <td>1.80</td>\n",
       "      <td>0.75</td>\n",
       "      <td>0.43</td>\n",
       "      <td>1.41</td>\n",
       "      <td>7.30</td>\n",
       "      <td>0.70</td>\n",
       "      <td>1.56</td>\n",
       "      <td>750</td>\n",
       "    </tr>\n",
       "    <tr>\n",
       "      <th>175</th>\n",
       "      <td>3</td>\n",
       "      <td>13.27</td>\n",
       "      <td>4.28</td>\n",
       "      <td>2.26</td>\n",
       "      <td>20.0</td>\n",
       "      <td>120</td>\n",
       "      <td>1.59</td>\n",
       "      <td>0.69</td>\n",
       "      <td>0.43</td>\n",
       "      <td>1.35</td>\n",
       "      <td>10.20</td>\n",
       "      <td>0.59</td>\n",
       "      <td>1.56</td>\n",
       "      <td>835</td>\n",
       "    </tr>\n",
       "    <tr>\n",
       "      <th>176</th>\n",
       "      <td>3</td>\n",
       "      <td>13.17</td>\n",
       "      <td>2.59</td>\n",
       "      <td>2.37</td>\n",
       "      <td>20.0</td>\n",
       "      <td>120</td>\n",
       "      <td>1.65</td>\n",
       "      <td>0.68</td>\n",
       "      <td>0.53</td>\n",
       "      <td>1.46</td>\n",
       "      <td>9.30</td>\n",
       "      <td>0.60</td>\n",
       "      <td>1.62</td>\n",
       "      <td>840</td>\n",
       "    </tr>\n",
       "    <tr>\n",
       "      <th>177</th>\n",
       "      <td>3</td>\n",
       "      <td>14.13</td>\n",
       "      <td>4.10</td>\n",
       "      <td>2.74</td>\n",
       "      <td>24.5</td>\n",
       "      <td>96</td>\n",
       "      <td>2.05</td>\n",
       "      <td>0.76</td>\n",
       "      <td>0.56</td>\n",
       "      <td>1.35</td>\n",
       "      <td>9.20</td>\n",
       "      <td>0.61</td>\n",
       "      <td>1.60</td>\n",
       "      <td>560</td>\n",
       "    </tr>\n",
       "  </tbody>\n",
       "</table>\n",
       "<p>178 rows × 14 columns</p>\n",
       "</div>"
      ],
      "text/plain": [
       "     Class  Alcohol  Malic acid   Ash  Alcalinity of ash  Magnesium  \\\n",
       "0        1    14.23        1.71  2.43               15.6        127   \n",
       "1        1    13.20        1.78  2.14               11.2        100   \n",
       "2        1    13.16        2.36  2.67               18.6        101   \n",
       "3        1    14.37        1.95  2.50               16.8        113   \n",
       "4        1    13.24        2.59  2.87               21.0        118   \n",
       "..     ...      ...         ...   ...                ...        ...   \n",
       "173      3    13.71        5.65  2.45               20.5         95   \n",
       "174      3    13.40        3.91  2.48               23.0        102   \n",
       "175      3    13.27        4.28  2.26               20.0        120   \n",
       "176      3    13.17        2.59  2.37               20.0        120   \n",
       "177      3    14.13        4.10  2.74               24.5         96   \n",
       "\n",
       "     Total phenols  Flavanoids  Nonflavanoid phenols  Proanthocyanins  \\\n",
       "0             2.80        3.06                  0.28             2.29   \n",
       "1             2.65        2.76                  0.26             1.28   \n",
       "2             2.80        3.24                  0.30             2.81   \n",
       "3             3.85        3.49                  0.24             2.18   \n",
       "4             2.80        2.69                  0.39             1.82   \n",
       "..             ...         ...                   ...              ...   \n",
       "173           1.68        0.61                  0.52             1.06   \n",
       "174           1.80        0.75                  0.43             1.41   \n",
       "175           1.59        0.69                  0.43             1.35   \n",
       "176           1.65        0.68                  0.53             1.46   \n",
       "177           2.05        0.76                  0.56             1.35   \n",
       "\n",
       "     Color intensity   Hue  OD280/OD315  Proline  \n",
       "0               5.64  1.04         3.92     1065  \n",
       "1               4.38  1.05         3.40     1050  \n",
       "2               5.68  1.03         3.17     1185  \n",
       "3               7.80  0.86         3.45     1480  \n",
       "4               4.32  1.04         2.93      735  \n",
       "..               ...   ...          ...      ...  \n",
       "173             7.70  0.64         1.74      740  \n",
       "174             7.30  0.70         1.56      750  \n",
       "175            10.20  0.59         1.56      835  \n",
       "176             9.30  0.60         1.62      840  \n",
       "177             9.20  0.61         1.60      560  \n",
       "\n",
       "[178 rows x 14 columns]"
      ]
     },
     "execution_count": 2,
     "metadata": {},
     "output_type": "execute_result"
    }
   ],
   "source": [
    "df = pd.read_csv('wineData.txt', header=None)\n",
    "\n",
    "df.columns = ['Class', 'Alcohol', 'Malic acid', 'Ash', 'Alcalinity of ash', 'Magnesium', 'Total phenols', 'Flavanoids',\n",
    "              'Nonflavanoid phenols', 'Proanthocyanins', 'Color intensity', 'Hue', 'OD280/OD315', 'Proline']\n",
    "\n",
    "df"
   ]
  },
  {
   "cell_type": "markdown",
   "id": "7e817574",
   "metadata": {},
   "source": [
    "Les variables són les següents:\n",
    "\n",
    "- **Class:** Tipus de vi.\n",
    "\n",
    "- **Alcohol:** Contingut d'etanol del vi.\n",
    "\n",
    "- **Malic acid:** Quantitat d'àcid màlic (contribueix a l'acidesa del vi).\n",
    "\n",
    "- **Ash:** Quantitat de minerals presents en el vi.\n",
    "\n",
    "- **Alcalinity of ash:** Nivell d'alcalinitat dels minerals.\n",
    "\n",
    "- **Magnesium:** El magnesi és un mineral que pot influir en la percepció del sabor i la textura del vi.\n",
    "\n",
    "- **Total phenols:** Contingut de fenols totals.\n",
    "\n",
    "- **Flavanoids:** Quantitat de flavonoides (tipus de fenols) al vi.\n",
    "\n",
    "- **Nonflavanoid phenols:** Contingut de fenols no flavonoides.\n",
    "\n",
    "- **Proanthocyanins:** Contingut de proantocianidines (compostos fenòlics).\n",
    "\n",
    "- **Color intensity:** Intensitat del color de la mostra.\n",
    "\n",
    "- **Hue:** Matís del color del vi.\n",
    "\n",
    "- **OD280/OD315** of diluted wines: És una mesura que indica la concentració de compostos fenòlics en el vi.\n",
    "\n",
    "- **Proline:** quantitat de prolina al vi (aminoàcid que pot influir en la textura i el sabor).\n",
    "\n",
    "\n",
    "Mirem la informació general sobre el dataset: valors nuls, tipus de dades, etc."
   ]
  },
  {
   "cell_type": "code",
   "execution_count": 3,
   "id": "65b750f8",
   "metadata": {},
   "outputs": [
    {
     "name": "stdout",
     "output_type": "stream",
     "text": [
      "<class 'pandas.core.frame.DataFrame'>\n",
      "RangeIndex: 178 entries, 0 to 177\n",
      "Data columns (total 14 columns):\n",
      " #   Column                Non-Null Count  Dtype  \n",
      "---  ------                --------------  -----  \n",
      " 0   Class                 178 non-null    int64  \n",
      " 1   Alcohol               178 non-null    float64\n",
      " 2   Malic acid            178 non-null    float64\n",
      " 3   Ash                   178 non-null    float64\n",
      " 4   Alcalinity of ash     178 non-null    float64\n",
      " 5   Magnesium             178 non-null    int64  \n",
      " 6   Total phenols         178 non-null    float64\n",
      " 7   Flavanoids            178 non-null    float64\n",
      " 8   Nonflavanoid phenols  178 non-null    float64\n",
      " 9   Proanthocyanins       178 non-null    float64\n",
      " 10  Color intensity       178 non-null    float64\n",
      " 11  Hue                   178 non-null    float64\n",
      " 12  OD280/OD315           178 non-null    float64\n",
      " 13  Proline               178 non-null    int64  \n",
      "dtypes: float64(11), int64(3)\n",
      "memory usage: 19.6 KB\n"
     ]
    }
   ],
   "source": [
    "df.info()"
   ]
  },
  {
   "cell_type": "code",
   "execution_count": 4,
   "id": "3119f946",
   "metadata": {},
   "outputs": [
    {
     "data": {
      "text/plain": [
       "Class                   0\n",
       "Alcohol                 0\n",
       "Malic acid              0\n",
       "Ash                     0\n",
       "Alcalinity of ash       0\n",
       "Magnesium               0\n",
       "Total phenols           0\n",
       "Flavanoids              0\n",
       "Nonflavanoid phenols    0\n",
       "Proanthocyanins         0\n",
       "Color intensity         0\n",
       "Hue                     0\n",
       "OD280/OD315             0\n",
       "Proline                 0\n",
       "dtype: int64"
      ]
     },
     "execution_count": 4,
     "metadata": {},
     "output_type": "execute_result"
    }
   ],
   "source": [
    "df.isnull().sum()"
   ]
  },
  {
   "cell_type": "code",
   "execution_count": 5,
   "id": "c0b3ec7f",
   "metadata": {},
   "outputs": [
    {
     "data": {
      "text/plain": [
       "Class                   0\n",
       "Alcohol                 0\n",
       "Malic acid              0\n",
       "Ash                     0\n",
       "Alcalinity of ash       0\n",
       "Magnesium               0\n",
       "Total phenols           0\n",
       "Flavanoids              0\n",
       "Nonflavanoid phenols    0\n",
       "Proanthocyanins         0\n",
       "Color intensity         0\n",
       "Hue                     0\n",
       "OD280/OD315             0\n",
       "Proline                 0\n",
       "dtype: int64"
      ]
     },
     "execution_count": 5,
     "metadata": {},
     "output_type": "execute_result"
    }
   ],
   "source": [
    "df.isna().sum()"
   ]
  },
  {
   "cell_type": "code",
   "execution_count": 6,
   "id": "382c499a",
   "metadata": {},
   "outputs": [
    {
     "data": {
      "text/plain": [
       "0"
      ]
     },
     "execution_count": 6,
     "metadata": {},
     "output_type": "execute_result"
    }
   ],
   "source": [
    "df.duplicated().sum()"
   ]
  },
  {
   "cell_type": "markdown",
   "id": "8acf8397",
   "metadata": {},
   "source": [
    "Mirem l'anàlisi estadístic i les correlacions entre les variables"
   ]
  },
  {
   "cell_type": "code",
   "execution_count": 7,
   "id": "1f9c21fc",
   "metadata": {},
   "outputs": [
    {
     "data": {
      "text/html": [
       "<div>\n",
       "<style scoped>\n",
       "    .dataframe tbody tr th:only-of-type {\n",
       "        vertical-align: middle;\n",
       "    }\n",
       "\n",
       "    .dataframe tbody tr th {\n",
       "        vertical-align: top;\n",
       "    }\n",
       "\n",
       "    .dataframe thead th {\n",
       "        text-align: right;\n",
       "    }\n",
       "</style>\n",
       "<table border=\"1\" class=\"dataframe\">\n",
       "  <thead>\n",
       "    <tr style=\"text-align: right;\">\n",
       "      <th></th>\n",
       "      <th>Class</th>\n",
       "      <th>Alcohol</th>\n",
       "      <th>Malic acid</th>\n",
       "      <th>Ash</th>\n",
       "      <th>Alcalinity of ash</th>\n",
       "      <th>Magnesium</th>\n",
       "      <th>Total phenols</th>\n",
       "      <th>Flavanoids</th>\n",
       "      <th>Nonflavanoid phenols</th>\n",
       "      <th>Proanthocyanins</th>\n",
       "      <th>Color intensity</th>\n",
       "      <th>Hue</th>\n",
       "      <th>OD280/OD315</th>\n",
       "      <th>Proline</th>\n",
       "    </tr>\n",
       "  </thead>\n",
       "  <tbody>\n",
       "    <tr>\n",
       "      <th>count</th>\n",
       "      <td>178.00</td>\n",
       "      <td>178.00</td>\n",
       "      <td>178.00</td>\n",
       "      <td>178.00</td>\n",
       "      <td>178.00</td>\n",
       "      <td>178.00</td>\n",
       "      <td>178.00</td>\n",
       "      <td>178.00</td>\n",
       "      <td>178.00</td>\n",
       "      <td>178.00</td>\n",
       "      <td>178.00</td>\n",
       "      <td>178.00</td>\n",
       "      <td>178.00</td>\n",
       "      <td>178.00</td>\n",
       "    </tr>\n",
       "    <tr>\n",
       "      <th>mean</th>\n",
       "      <td>1.94</td>\n",
       "      <td>13.00</td>\n",
       "      <td>2.34</td>\n",
       "      <td>2.37</td>\n",
       "      <td>19.49</td>\n",
       "      <td>99.74</td>\n",
       "      <td>2.30</td>\n",
       "      <td>2.03</td>\n",
       "      <td>0.36</td>\n",
       "      <td>1.59</td>\n",
       "      <td>5.06</td>\n",
       "      <td>0.96</td>\n",
       "      <td>2.61</td>\n",
       "      <td>746.89</td>\n",
       "    </tr>\n",
       "    <tr>\n",
       "      <th>std</th>\n",
       "      <td>0.78</td>\n",
       "      <td>0.81</td>\n",
       "      <td>1.12</td>\n",
       "      <td>0.27</td>\n",
       "      <td>3.34</td>\n",
       "      <td>14.28</td>\n",
       "      <td>0.63</td>\n",
       "      <td>1.00</td>\n",
       "      <td>0.12</td>\n",
       "      <td>0.57</td>\n",
       "      <td>2.32</td>\n",
       "      <td>0.23</td>\n",
       "      <td>0.71</td>\n",
       "      <td>314.91</td>\n",
       "    </tr>\n",
       "    <tr>\n",
       "      <th>min</th>\n",
       "      <td>1.00</td>\n",
       "      <td>11.03</td>\n",
       "      <td>0.74</td>\n",
       "      <td>1.36</td>\n",
       "      <td>10.60</td>\n",
       "      <td>70.00</td>\n",
       "      <td>0.98</td>\n",
       "      <td>0.34</td>\n",
       "      <td>0.13</td>\n",
       "      <td>0.41</td>\n",
       "      <td>1.28</td>\n",
       "      <td>0.48</td>\n",
       "      <td>1.27</td>\n",
       "      <td>278.00</td>\n",
       "    </tr>\n",
       "    <tr>\n",
       "      <th>25%</th>\n",
       "      <td>1.00</td>\n",
       "      <td>12.36</td>\n",
       "      <td>1.60</td>\n",
       "      <td>2.21</td>\n",
       "      <td>17.20</td>\n",
       "      <td>88.00</td>\n",
       "      <td>1.74</td>\n",
       "      <td>1.20</td>\n",
       "      <td>0.27</td>\n",
       "      <td>1.25</td>\n",
       "      <td>3.22</td>\n",
       "      <td>0.78</td>\n",
       "      <td>1.94</td>\n",
       "      <td>500.50</td>\n",
       "    </tr>\n",
       "    <tr>\n",
       "      <th>50%</th>\n",
       "      <td>2.00</td>\n",
       "      <td>13.05</td>\n",
       "      <td>1.87</td>\n",
       "      <td>2.36</td>\n",
       "      <td>19.50</td>\n",
       "      <td>98.00</td>\n",
       "      <td>2.36</td>\n",
       "      <td>2.13</td>\n",
       "      <td>0.34</td>\n",
       "      <td>1.56</td>\n",
       "      <td>4.69</td>\n",
       "      <td>0.96</td>\n",
       "      <td>2.78</td>\n",
       "      <td>673.50</td>\n",
       "    </tr>\n",
       "    <tr>\n",
       "      <th>75%</th>\n",
       "      <td>3.00</td>\n",
       "      <td>13.68</td>\n",
       "      <td>3.08</td>\n",
       "      <td>2.56</td>\n",
       "      <td>21.50</td>\n",
       "      <td>107.00</td>\n",
       "      <td>2.80</td>\n",
       "      <td>2.88</td>\n",
       "      <td>0.44</td>\n",
       "      <td>1.95</td>\n",
       "      <td>6.20</td>\n",
       "      <td>1.12</td>\n",
       "      <td>3.17</td>\n",
       "      <td>985.00</td>\n",
       "    </tr>\n",
       "    <tr>\n",
       "      <th>max</th>\n",
       "      <td>3.00</td>\n",
       "      <td>14.83</td>\n",
       "      <td>5.80</td>\n",
       "      <td>3.23</td>\n",
       "      <td>30.00</td>\n",
       "      <td>162.00</td>\n",
       "      <td>3.88</td>\n",
       "      <td>5.08</td>\n",
       "      <td>0.66</td>\n",
       "      <td>3.58</td>\n",
       "      <td>13.00</td>\n",
       "      <td>1.71</td>\n",
       "      <td>4.00</td>\n",
       "      <td>1680.00</td>\n",
       "    </tr>\n",
       "  </tbody>\n",
       "</table>\n",
       "</div>"
      ],
      "text/plain": [
       "        Class  Alcohol  Malic acid     Ash  Alcalinity of ash  Magnesium  \\\n",
       "count  178.00   178.00      178.00  178.00             178.00     178.00   \n",
       "mean     1.94    13.00        2.34    2.37              19.49      99.74   \n",
       "std      0.78     0.81        1.12    0.27               3.34      14.28   \n",
       "min      1.00    11.03        0.74    1.36              10.60      70.00   \n",
       "25%      1.00    12.36        1.60    2.21              17.20      88.00   \n",
       "50%      2.00    13.05        1.87    2.36              19.50      98.00   \n",
       "75%      3.00    13.68        3.08    2.56              21.50     107.00   \n",
       "max      3.00    14.83        5.80    3.23              30.00     162.00   \n",
       "\n",
       "       Total phenols  Flavanoids  Nonflavanoid phenols  Proanthocyanins  \\\n",
       "count         178.00      178.00                178.00           178.00   \n",
       "mean            2.30        2.03                  0.36             1.59   \n",
       "std             0.63        1.00                  0.12             0.57   \n",
       "min             0.98        0.34                  0.13             0.41   \n",
       "25%             1.74        1.20                  0.27             1.25   \n",
       "50%             2.36        2.13                  0.34             1.56   \n",
       "75%             2.80        2.88                  0.44             1.95   \n",
       "max             3.88        5.08                  0.66             3.58   \n",
       "\n",
       "       Color intensity     Hue  OD280/OD315  Proline  \n",
       "count           178.00  178.00       178.00   178.00  \n",
       "mean              5.06    0.96         2.61   746.89  \n",
       "std               2.32    0.23         0.71   314.91  \n",
       "min               1.28    0.48         1.27   278.00  \n",
       "25%               3.22    0.78         1.94   500.50  \n",
       "50%               4.69    0.96         2.78   673.50  \n",
       "75%               6.20    1.12         3.17   985.00  \n",
       "max              13.00    1.71         4.00  1680.00  "
      ]
     },
     "execution_count": 7,
     "metadata": {},
     "output_type": "execute_result"
    }
   ],
   "source": [
    "df.describe().round(2)"
   ]
  },
  {
   "cell_type": "code",
   "execution_count": 8,
   "id": "be4a5b27",
   "metadata": {},
   "outputs": [
    {
     "data": {
      "text/plain": [
       "<Axes: >"
      ]
     },
     "execution_count": 8,
     "metadata": {},
     "output_type": "execute_result"
    },
    {
     "data": {
      "image/png": "[encoded data removed]",
      "text/plain": [
       "<Figure size 1000x600 with 2 Axes>"
      ]
     },
     "metadata": {},
     "output_type": "display_data"
    }
   ],
   "source": [
    "plt.figure(figsize=(10, 6))\n",
    "\n",
    "mask = np.triu(np.ones_like(df.corr(), dtype=bool))\n",
    "\n",
    "sns.heatmap(df.corr(), annot=True, fmt=\".2f\", linewidth=.5, mask=mask)"
   ]
  },
  {
   "cell_type": "markdown",
   "id": "015ead8e",
   "metadata": {},
   "source": [
    "Les correlacions més altes són les següents:\n",
    "\n",
    "**1. Flavonoids i Total phenols (0.86)**:\n",
    "\n",
    "- Flavanoids: Quantitat de flavonoides (tipus de fenols) al vi.\n",
    "- Total phenols: Contingut de fenols totals.\n",
    "\n",
    "Com més quantitat de flavonoides, trobem més fenols totals.\n",
    "\n",
    "**2. OD280/OD315 i Flavonoids (0.79)**:\n",
    "\n",
    "- OD280/OD315 of diluted wines: És una mesura que indica la concentració de compostos fenòlics en el vi.\n",
    "- Flavanoids: Quantitat de flavonoides (tipus de fenols) al vi.\n",
    "\n",
    "Com més flavonoides, més alt és OD280/OD315.\n",
    "\n",
    "La resta de correlacions entre variables són baixes. \n",
    "\n",
    "Si ens fixem en l'atribut CLASS (la variable target) veiem que, en general, té una correlació bastant moderada amb les altres variables, excepte en els següents casos:\n",
    "\n",
    "\n",
    "**1. Class i Flavonoids (-0.85)**:\n",
    "\n",
    "- Class: Tipus de vi.\n",
    "- Flavanoids: Quantitat de flavonoides (tipus de fenols) al vi.\n",
    "\n",
    "La presència de flavonoides pot ser un indicador distintiu del tipus de vi.\n",
    "\n",
    "**2. Class i OD280/OD315 (-0.79)**:\n",
    "\n",
    "- Class: Tipus de vi.\n",
    "- OD280/OD315 of diluted wines: És una mesura que indica la concentració de compostos fenòlics en el vi.\n",
    "\n",
    "Diferents tipus de vins tendeixen a tenir concentracions diferents d'aquests compostos fenòlics.\n",
    "\n",
    "**3. Class i Total phenols (-0.72)**:\n",
    "\n",
    "- Class: Tipus de vi.\n",
    "- Total phenols: Contingut de fenols totals.\n",
    "\n",
    "El contingut de fenols totals podria ser un factor rellevant per classificar els tipus de vins.\n",
    "\n",
    "\n",
    "Seguidament, continuem amb l'estudi de les variables visualment per veure si tenen outliers (boxplot):"
   ]
  },
  {
   "cell_type": "code",
   "execution_count": 9,
   "id": "59ada7e3",
   "metadata": {},
   "outputs": [
    {
     "data": {
      "image/png": "[encoded data removed]",
      "text/plain": [
       "<Figure size 1200x800 with 4 Axes>"
      ]
     },
     "metadata": {},
     "output_type": "display_data"
    }
   ],
   "source": [
    "fig, axes = plt.subplots(nrows=2, ncols=2, figsize=(12, 8))\n",
    "\n",
    "sns.boxplot(data=df[['Malic acid', 'Ash', 'Total phenols', 'Flavanoids', \n",
    "                     'Nonflavanoid phenols', 'Proanthocyanins', 'Color intensity', 'Hue', 'OD280/OD315']], ax=axes[0, 0])\n",
    "axes[0, 0].tick_params(axis='x', rotation=90)\n",
    "\n",
    "sns.boxplot(data=df[['Alcohol', 'Alcalinity of ash']], ax=axes[0, 1])\n",
    "sns.boxplot(data=df[['Magnesium']], ax=axes[1, 0])\n",
    "sns.boxplot(data=df[['Proline']], ax=axes[1, 1])\n",
    "\n",
    "plt.tight_layout()\n",
    "plt.show()"
   ]
  },
  {
   "cell_type": "markdown",
   "id": "fe755632",
   "metadata": {},
   "source": [
    "Veiem que alguns atributs tenen outliers. Aixó ens servirà per a quan haguem d'estandartitzar."
   ]
  },
  {
   "cell_type": "markdown",
   "id": "2a038094",
   "metadata": {},
   "source": [
    "### Train-test"
   ]
  },
  {
   "cell_type": "markdown",
   "id": "0aafae35",
   "metadata": {},
   "source": [
    "Dividim el dataframe en diferents en els conjunts de train i test per predir a quin tipus de classe pertany un vi ('Class') basant-nos en les variables predictores."
   ]
  },
  {
   "cell_type": "code",
   "execution_count": 10,
   "id": "b7ce438d",
   "metadata": {},
   "outputs": [
    {
     "data": {
      "text/html": [
       "<div>\n",
       "<style scoped>\n",
       "    .dataframe tbody tr th:only-of-type {\n",
       "        vertical-align: middle;\n",
       "    }\n",
       "\n",
       "    .dataframe tbody tr th {\n",
       "        vertical-align: top;\n",
       "    }\n",
       "\n",
       "    .dataframe thead th {\n",
       "        text-align: right;\n",
       "    }\n",
       "</style>\n",
       "<table border=\"1\" class=\"dataframe\">\n",
       "  <thead>\n",
       "    <tr style=\"text-align: right;\">\n",
       "      <th></th>\n",
       "      <th>Alcohol</th>\n",
       "      <th>Malic acid</th>\n",
       "      <th>Ash</th>\n",
       "      <th>Alcalinity of ash</th>\n",
       "      <th>Magnesium</th>\n",
       "      <th>Total phenols</th>\n",
       "      <th>Flavanoids</th>\n",
       "      <th>Nonflavanoid phenols</th>\n",
       "      <th>Proanthocyanins</th>\n",
       "      <th>Color intensity</th>\n",
       "      <th>Hue</th>\n",
       "      <th>OD280/OD315</th>\n",
       "      <th>Proline</th>\n",
       "    </tr>\n",
       "  </thead>\n",
       "  <tbody>\n",
       "    <tr>\n",
       "      <th>16</th>\n",
       "      <td>14.30</td>\n",
       "      <td>1.92</td>\n",
       "      <td>2.72</td>\n",
       "      <td>20.0</td>\n",
       "      <td>120</td>\n",
       "      <td>2.80</td>\n",
       "      <td>3.14</td>\n",
       "      <td>0.33</td>\n",
       "      <td>1.97</td>\n",
       "      <td>6.20</td>\n",
       "      <td>1.07</td>\n",
       "      <td>2.65</td>\n",
       "      <td>1280</td>\n",
       "    </tr>\n",
       "    <tr>\n",
       "      <th>19</th>\n",
       "      <td>13.64</td>\n",
       "      <td>3.10</td>\n",
       "      <td>2.56</td>\n",
       "      <td>15.2</td>\n",
       "      <td>116</td>\n",
       "      <td>2.70</td>\n",
       "      <td>3.03</td>\n",
       "      <td>0.17</td>\n",
       "      <td>1.66</td>\n",
       "      <td>5.10</td>\n",
       "      <td>0.96</td>\n",
       "      <td>3.36</td>\n",
       "      <td>845</td>\n",
       "    </tr>\n",
       "    <tr>\n",
       "      <th>2</th>\n",
       "      <td>13.16</td>\n",
       "      <td>2.36</td>\n",
       "      <td>2.67</td>\n",
       "      <td>18.6</td>\n",
       "      <td>101</td>\n",
       "      <td>2.80</td>\n",
       "      <td>3.24</td>\n",
       "      <td>0.30</td>\n",
       "      <td>2.81</td>\n",
       "      <td>5.68</td>\n",
       "      <td>1.03</td>\n",
       "      <td>3.17</td>\n",
       "      <td>1185</td>\n",
       "    </tr>\n",
       "    <tr>\n",
       "      <th>159</th>\n",
       "      <td>13.48</td>\n",
       "      <td>1.67</td>\n",
       "      <td>2.64</td>\n",
       "      <td>22.5</td>\n",
       "      <td>89</td>\n",
       "      <td>2.60</td>\n",
       "      <td>1.10</td>\n",
       "      <td>0.52</td>\n",
       "      <td>2.29</td>\n",
       "      <td>11.75</td>\n",
       "      <td>0.57</td>\n",
       "      <td>1.78</td>\n",
       "      <td>620</td>\n",
       "    </tr>\n",
       "    <tr>\n",
       "      <th>135</th>\n",
       "      <td>12.60</td>\n",
       "      <td>2.46</td>\n",
       "      <td>2.20</td>\n",
       "      <td>18.5</td>\n",
       "      <td>94</td>\n",
       "      <td>1.62</td>\n",
       "      <td>0.66</td>\n",
       "      <td>0.63</td>\n",
       "      <td>0.94</td>\n",
       "      <td>7.10</td>\n",
       "      <td>0.73</td>\n",
       "      <td>1.58</td>\n",
       "      <td>695</td>\n",
       "    </tr>\n",
       "    <tr>\n",
       "      <th>...</th>\n",
       "      <td>...</td>\n",
       "      <td>...</td>\n",
       "      <td>...</td>\n",
       "      <td>...</td>\n",
       "      <td>...</td>\n",
       "      <td>...</td>\n",
       "      <td>...</td>\n",
       "      <td>...</td>\n",
       "      <td>...</td>\n",
       "      <td>...</td>\n",
       "      <td>...</td>\n",
       "      <td>...</td>\n",
       "      <td>...</td>\n",
       "    </tr>\n",
       "    <tr>\n",
       "      <th>87</th>\n",
       "      <td>11.65</td>\n",
       "      <td>1.67</td>\n",
       "      <td>2.62</td>\n",
       "      <td>26.0</td>\n",
       "      <td>88</td>\n",
       "      <td>1.92</td>\n",
       "      <td>1.61</td>\n",
       "      <td>0.40</td>\n",
       "      <td>1.34</td>\n",
       "      <td>2.60</td>\n",
       "      <td>1.36</td>\n",
       "      <td>3.21</td>\n",
       "      <td>562</td>\n",
       "    </tr>\n",
       "    <tr>\n",
       "      <th>104</th>\n",
       "      <td>12.51</td>\n",
       "      <td>1.73</td>\n",
       "      <td>1.98</td>\n",
       "      <td>20.5</td>\n",
       "      <td>85</td>\n",
       "      <td>2.20</td>\n",
       "      <td>1.92</td>\n",
       "      <td>0.32</td>\n",
       "      <td>1.48</td>\n",
       "      <td>2.94</td>\n",
       "      <td>1.04</td>\n",
       "      <td>3.57</td>\n",
       "      <td>672</td>\n",
       "    </tr>\n",
       "    <tr>\n",
       "      <th>129</th>\n",
       "      <td>12.04</td>\n",
       "      <td>4.30</td>\n",
       "      <td>2.38</td>\n",
       "      <td>22.0</td>\n",
       "      <td>80</td>\n",
       "      <td>2.10</td>\n",
       "      <td>1.75</td>\n",
       "      <td>0.42</td>\n",
       "      <td>1.35</td>\n",
       "      <td>2.60</td>\n",
       "      <td>0.79</td>\n",
       "      <td>2.57</td>\n",
       "      <td>580</td>\n",
       "    </tr>\n",
       "    <tr>\n",
       "      <th>174</th>\n",
       "      <td>13.40</td>\n",
       "      <td>3.91</td>\n",
       "      <td>2.48</td>\n",
       "      <td>23.0</td>\n",
       "      <td>102</td>\n",
       "      <td>1.80</td>\n",
       "      <td>0.75</td>\n",
       "      <td>0.43</td>\n",
       "      <td>1.41</td>\n",
       "      <td>7.30</td>\n",
       "      <td>0.70</td>\n",
       "      <td>1.56</td>\n",
       "      <td>750</td>\n",
       "    </tr>\n",
       "    <tr>\n",
       "      <th>122</th>\n",
       "      <td>12.42</td>\n",
       "      <td>4.43</td>\n",
       "      <td>2.73</td>\n",
       "      <td>26.5</td>\n",
       "      <td>102</td>\n",
       "      <td>2.20</td>\n",
       "      <td>2.13</td>\n",
       "      <td>0.43</td>\n",
       "      <td>1.71</td>\n",
       "      <td>2.08</td>\n",
       "      <td>0.92</td>\n",
       "      <td>3.12</td>\n",
       "      <td>365</td>\n",
       "    </tr>\n",
       "  </tbody>\n",
       "</table>\n",
       "<p>142 rows × 13 columns</p>\n",
       "</div>"
      ],
      "text/plain": [
       "     Alcohol  Malic acid   Ash  Alcalinity of ash  Magnesium  Total phenols  \\\n",
       "16     14.30        1.92  2.72               20.0        120           2.80   \n",
       "19     13.64        3.10  2.56               15.2        116           2.70   \n",
       "2      13.16        2.36  2.67               18.6        101           2.80   \n",
       "159    13.48        1.67  2.64               22.5         89           2.60   \n",
       "135    12.60        2.46  2.20               18.5         94           1.62   \n",
       "..       ...         ...   ...                ...        ...            ...   \n",
       "87     11.65        1.67  2.62               26.0         88           1.92   \n",
       "104    12.51        1.73  1.98               20.5         85           2.20   \n",
       "129    12.04        4.30  2.38               22.0         80           2.10   \n",
       "174    13.40        3.91  2.48               23.0        102           1.80   \n",
       "122    12.42        4.43  2.73               26.5        102           2.20   \n",
       "\n",
       "     Flavanoids  Nonflavanoid phenols  Proanthocyanins  Color intensity   Hue  \\\n",
       "16         3.14                  0.33             1.97             6.20  1.07   \n",
       "19         3.03                  0.17             1.66             5.10  0.96   \n",
       "2          3.24                  0.30             2.81             5.68  1.03   \n",
       "159        1.10                  0.52             2.29            11.75  0.57   \n",
       "135        0.66                  0.63             0.94             7.10  0.73   \n",
       "..          ...                   ...              ...              ...   ...   \n",
       "87         1.61                  0.40             1.34             2.60  1.36   \n",
       "104        1.92                  0.32             1.48             2.94  1.04   \n",
       "129        1.75                  0.42             1.35             2.60  0.79   \n",
       "174        0.75                  0.43             1.41             7.30  0.70   \n",
       "122        2.13                  0.43             1.71             2.08  0.92   \n",
       "\n",
       "     OD280/OD315  Proline  \n",
       "16          2.65     1280  \n",
       "19          3.36      845  \n",
       "2           3.17     1185  \n",
       "159         1.78      620  \n",
       "135         1.58      695  \n",
       "..           ...      ...  \n",
       "87          3.21      562  \n",
       "104         3.57      672  \n",
       "129         2.57      580  \n",
       "174         1.56      750  \n",
       "122         3.12      365  \n",
       "\n",
       "[142 rows x 13 columns]"
      ]
     },
     "execution_count": 10,
     "metadata": {},
     "output_type": "execute_result"
    }
   ],
   "source": [
    "# Train-test\n",
    "\n",
    "df2 = df\n",
    "\n",
    "X = df2.drop('Class', axis=1)\n",
    "y = df2['Class']\n",
    "\n",
    "X_train, X_test, y_train, y_test = train_test_split(X, y, test_size=0.2, random_state=4)\n",
    "\n",
    "X_train"
   ]
  },
  {
   "cell_type": "markdown",
   "id": "390721e9",
   "metadata": {},
   "source": [
    "Un cop tenim el dataset de train i test fet, ja podem incloure els models de machine learning que necessitem. En aquests casos utilitzarem models d'aprenentatge supervisat (aprèn de dades que ja estan etiquetades). Aquests models supervisats reben un conjunt de dades d'entrada i valors de sortida, on després, s'entrenen amb aquestes per aprendre a fer prediccions sobre dades no vistes."
   ]
  },
  {
   "cell_type": "markdown",
   "id": "85776eb8",
   "metadata": {},
   "source": [
    "### K-Nearest-Neighbors"
   ]
  },
  {
   "cell_type": "markdown",
   "id": "4b513709",
   "metadata": {},
   "source": [
    "**K-Nearest-Neighbors** (KNN) és un algoritme d'aprenentatge supervisat utilitzat per a problemes de classificació i regressió. És un algoritme no paramètric, és a dir, no assumeix cap distribució específica de les dades. Aquest algoritme no fa suposicions fortes sobre la distribució de les dades, la qual cosa el fa adequat per a una àmplia varietat de conjunts de dades."
   ]
  },
  {
   "cell_type": "code",
   "execution_count": 11,
   "id": "24255e37",
   "metadata": {},
   "outputs": [
    {
     "data": {
      "text/plain": [
       "array([1, 3, 1, 1, 3, 1, 1, 1, 1, 2, 2, 1, 2, 3, 1, 2, 1, 2, 2, 2, 2, 2,\n",
       "       2, 3, 1, 3, 1, 2, 3, 1, 1, 3, 1, 2, 2, 3], dtype=int64)"
      ]
     },
     "execution_count": 11,
     "metadata": {},
     "output_type": "execute_result"
    }
   ],
   "source": [
    "# Crear el model KNN\n",
    "\n",
    "knn = KNeighborsClassifier(n_neighbors=3)\n",
    "\n",
    "knn.fit(X_train,y_train) # Entrenar el model\n",
    "\n",
    "y_pred_knn = knn.predict(X_test) # Prediccions\n",
    "\n",
    "y_pred_knn"
   ]
  },
  {
   "cell_type": "code",
   "execution_count": 12,
   "id": "c2e976ce",
   "metadata": {},
   "outputs": [
    {
     "name": "stdout",
     "output_type": "stream",
     "text": [
      "El model KNN encerta en el 69.4% de les ocasions.\n"
     ]
    }
   ],
   "source": [
    "accuracy = knn.score(X_test, y_test).round(3) # Avaluar el model\n",
    "\n",
    "print(f'El model KNN encerta en el {accuracy* 100:.1f}% de les ocasions.')"
   ]
  },
  {
   "cell_type": "markdown",
   "id": "f2408f1e",
   "metadata": {},
   "source": [
    "### Decision Tree Classifier"
   ]
  },
  {
   "cell_type": "markdown",
   "id": "c16b156c",
   "metadata": {},
   "source": [
    "Un **arbre de decisió** (Decision Tree Classifier) és una estructura similar a un diagrama de flux on un node intern representa una característica (o atribut), la branca representa una regla de decisió i cada fulla representa el resultat.\n",
    "\n",
    "El node més alt en un arbre de decisió es coneix com el node arrel i aprèn a fer particions basades en el valor de l'atribut, fent particions a l'arbre de manera recursiva (partició recursiva). Aquesta estructura ajuda en la presa de decisions i es visualitza com un diagrama de flux que imita fàcilment el pensament a nivell humà, per això, els arbres de decisió són fàcils d'entendre i interpretar."
   ]
  },
  {
   "cell_type": "code",
   "execution_count": 13,
   "id": "177690ad",
   "metadata": {},
   "outputs": [
    {
     "data": {
      "text/plain": [
       "array([3, 1, 1, 1, 2, 3, 1, 2, 1, 2, 2, 1, 3, 3, 1, 2, 1, 2, 2, 3, 2, 3,\n",
       "       2, 3, 1, 3, 2, 2, 1, 3, 1, 2, 1, 2, 3, 2], dtype=int64)"
      ]
     },
     "execution_count": 13,
     "metadata": {},
     "output_type": "execute_result"
    }
   ],
   "source": [
    "# Crear el model DTC\n",
    "\n",
    "dtc = DecisionTreeClassifier(random_state=3)\n",
    "\n",
    "dtc.fit(X_train,y_train)  # Entrenar el model\n",
    "\n",
    "y_pred_dtc = dtc.predict(X_test) # Prediccions\n",
    "\n",
    "y_pred_dtc"
   ]
  },
  {
   "cell_type": "code",
   "execution_count": 14,
   "id": "62e75cc4",
   "metadata": {},
   "outputs": [
    {
     "name": "stdout",
     "output_type": "stream",
     "text": [
      "El model KNN encerta en el 91.7% de les ocasions.\n"
     ]
    }
   ],
   "source": [
    "accuracy_2 = dtc.score(X_test, y_test).round(3) # Avaluar el model\n",
    "\n",
    "print(f'El model KNN encerta en el {accuracy_2* 100:.1f}% de les ocasions.')"
   ]
  },
  {
   "cell_type": "markdown",
   "id": "ef0252f8",
   "metadata": {},
   "source": [
    "### Exercici 2\n",
    "***\n",
    "Compara els models de classificació utilitzant la precisió (accuracy), una matriu de confusió i d’altres mètriques més avançades."
   ]
  },
  {
   "cell_type": "markdown",
   "id": "3e648857",
   "metadata": {},
   "source": [
    "- **Matriu de confusió** (confusion matrix) revela com el model de classificació ha interpretat i classificat les diferents classes. Els valors fora de la diagonal principal indiquen errors de classificació, mentre que els valors dintre de la diagonal representen les prediccions correctes.\n",
    "- **Accuracy** (exactitud) proporciona una visió general de quantes prediccions són correctes en comparació amb el total de prediccions."
   ]
  },
  {
   "cell_type": "markdown",
   "id": "d9dcb7ba",
   "metadata": {},
   "source": [
    "### Matriu de confusió"
   ]
  },
  {
   "cell_type": "code",
   "execution_count": 15,
   "id": "2bc71b9b",
   "metadata": {},
   "outputs": [
    {
     "name": "stdout",
     "output_type": "stream",
     "text": [
      "Matriu de Confusió - KNN:\n",
      "[[10  0  0]\n",
      " [ 2  9  2]\n",
      " [ 3  4  6]]\n",
      "\n",
      "Matriu de Confusió - DTC:\n",
      "[[10  0  0]\n",
      " [ 0 13  0]\n",
      " [ 2  1 10]]\n"
     ]
    }
   ],
   "source": [
    "# KNN\n",
    "cm_knn = confusion_matrix(y_test, y_pred_knn)\n",
    "print('Matriu de Confusió - KNN:')\n",
    "print(cm_knn)\n",
    "\n",
    "# DTC\n",
    "cm_dtc = confusion_matrix(y_test, y_pred_dtc)\n",
    "print('\\nMatriu de Confusió - DTC:')\n",
    "print(cm_dtc)\n"
   ]
  },
  {
   "cell_type": "code",
   "execution_count": 16,
   "id": "b5a27978",
   "metadata": {},
   "outputs": [
    {
     "data": {
      "image/png": "[encoded data removed]",
      "text/plain": [
       "<Figure size 1200x400 with 4 Axes>"
      ]
     },
     "metadata": {},
     "output_type": "display_data"
    }
   ],
   "source": [
    "# Visualització de la matriu de confusió\n",
    "\n",
    "names = df['Class'].unique()\n",
    "\n",
    "# Crear subgráficos\n",
    "fig, axs = plt.subplots(1, 2, figsize=(12, 4))\n",
    "\n",
    "# KNN\n",
    "sns.set(font_scale=1.2) \n",
    "sns.heatmap(cm_knn, annot=True, fmt=\"d\", cmap=\"Purples\", xticklabels=names, yticklabels=names, ax=axs[0])\n",
    "axs[0].set_xlabel('Predicción')\n",
    "axs[0].set_ylabel('Valor Real')\n",
    "axs[0].set_title('Matriu de Confusió - KNN')\n",
    "\n",
    "# DTC\n",
    "sns.set(font_scale=1.2) \n",
    "sns.heatmap(cm_dtc, annot=True, fmt=\"d\", cmap=\"Blues\", xticklabels=names, yticklabels=names, ax=axs[1])\n",
    "axs[1].set_xlabel('Predicción')\n",
    "axs[1].set_ylabel('Valor Real')\n",
    "axs[1].set_title('Matriu de Confusió - DTC')\n",
    "\n",
    "\n",
    "plt.tight_layout()\n",
    "plt.show()"
   ]
  },
  {
   "cell_type": "markdown",
   "id": "ef8b547b",
   "metadata": {},
   "source": [
    "**Matriu de Confusió - KNN:**\n",
    "\n",
    "- Classe 1 (Primera fila): 10 es van classificar correctament com a classe 1.\n",
    "- Classe 2 (Segona fila): 9 de la classe 2 es van classificar correctament, però va haver-hi 2 falsos negatius i 2 falsos positius.\n",
    "- Classe 3 (Tercera fila): 6 de la classe 3 es van classificar correctament, però va haver-hi 3 falsos negatius i 4 falsos positius.\n",
    "\n",
    "**Matriu de Confusió - DTC:**\n",
    "\n",
    "- Classe 1 (Primera fila): 10 es van classificar correctament com a classe 1.\n",
    "- Classe 2 (Segona fila): Totes les 13 instàncies de la classe 2 es van classificar correctament.\n",
    "- Classe 3 (Tercera fila): 10 de la classe 3 es van classificar correctament, però va haver-hi 2 falsos negatius i 1 fals positiu."
   ]
  },
  {
   "cell_type": "markdown",
   "id": "c78fa49c",
   "metadata": {},
   "source": [
    "### Accuracy"
   ]
  },
  {
   "cell_type": "code",
   "execution_count": 17,
   "id": "8da3a9b7",
   "metadata": {},
   "outputs": [
    {
     "name": "stdout",
     "output_type": "stream",
     "text": [
      "Accuracy - KNN: 69.44%\n",
      "Accuracy - DTC: 91.67%\n"
     ]
    }
   ],
   "source": [
    "# KNN\n",
    "\n",
    "accuracy_knn = accuracy_score(y_test, y_pred_knn)\n",
    "print(f'Accuracy - KNN: {accuracy_knn* 100:.2f}%')\n",
    "\n",
    "# DTC\n",
    "\n",
    "accuracy_dtc = accuracy_score(y_test, y_pred_dtc)\n",
    "print(f'Accuracy - DTC: {accuracy_dtc* 100:.2f}%')"
   ]
  },
  {
   "cell_type": "code",
   "execution_count": 18,
   "id": "b4f03b6a",
   "metadata": {},
   "outputs": [
    {
     "data": {
      "image/png": "[encoded data removed]",
      "text/plain": [
       "<Figure size 500x400 with 1 Axes>"
      ]
     },
     "metadata": {},
     "output_type": "display_data"
    }
   ],
   "source": [
    "accuracies = [accuracy_knn, accuracy_dtc]\n",
    "model_names = ['KNN', 'DTC']\n",
    "\n",
    "plt.figure(figsize=(5, 4))\n",
    "\n",
    "plt.bar(model_names, accuracies, color=['purple', 'blue'])\n",
    "\n",
    "plt.xlabel('Models')\n",
    "plt.ylabel('Accuracy')\n",
    "plt.title(\"Exactitud dels models\")\n",
    "\n",
    "plt.show()"
   ]
  },
  {
   "cell_type": "markdown",
   "id": "ebac64fb",
   "metadata": {},
   "source": [
    "El model K-Nearest-Neighbors (KNN) té una exactitud del 69%, és a dir, el 69% de les prediccions són correctes en el conjunt de prova. Per altra banda, el model Decision Tree Classifier (DTC), té un 92% de les prediccions correctes. Així doncs, podem considerar que DTC té una major exactitud en comparació amb el model KNN en aquest conjunt de dades.\n",
    "\n",
    "En termes generals, un model amb una exactitud més alta és preferible, però és important considerar altres mètriques. Els termes \"precision\", \"recall\" i \"f1-score\" son mètriques d'avaluació de models de classificació que s'utilitzen per a avaluar el rendiment d'un model en problemes de classificació, on s'intenta predir la classe a la qual pertanyen els elements d'un conjunt de dades.\n",
    "\n",
    "- **Precision**: mesura l'exactitud de les prediccions positives (proporció d'instàncies positives que van ser correctament classificades respecte a totes les classificades com a positives).\n",
    "- **Recall**: mesura la capacitat del model per a capturar totes les instàncies positives (proporció d'instàncies positives que van ser correctament classificades respecte a totes les instàncies que són realment positives.\n",
    "- **F1-score** és la mitjana harmònica de 'precision' i 'recall'. F1-score té un valor més alt quan 'precision' i 'recall' són alts i similars (és especialment útil quan hi ha un desequilibri entre les classes)."
   ]
  },
  {
   "cell_type": "code",
   "execution_count": 19,
   "id": "c24c43c7",
   "metadata": {},
   "outputs": [
    {
     "name": "stdout",
     "output_type": "stream",
     "text": [
      "Informe de Classificació - KNN:\n",
      "              precision    recall  f1-score   support\n",
      "\n",
      "           1       0.67      1.00      0.80        10\n",
      "           2       0.69      0.69      0.69        13\n",
      "           3       0.75      0.46      0.57        13\n",
      "\n",
      "    accuracy                           0.69        36\n",
      "   macro avg       0.70      0.72      0.69        36\n",
      "weighted avg       0.71      0.69      0.68        36\n",
      "\n",
      "\n",
      "Informe de Classificació - DTC:\n",
      "              precision    recall  f1-score   support\n",
      "\n",
      "           1       0.83      1.00      0.91        10\n",
      "           2       0.93      1.00      0.96        13\n",
      "           3       1.00      0.77      0.87        13\n",
      "\n",
      "    accuracy                           0.92        36\n",
      "   macro avg       0.92      0.92      0.91        36\n",
      "weighted avg       0.93      0.92      0.91        36\n",
      "\n"
     ]
    }
   ],
   "source": [
    "# Informe de Classificació\n",
    "report_knn = classification_report(y_test, y_pred_knn)\n",
    "\n",
    "print('Informe de Classificació - KNN:')\n",
    "print(report_knn)\n",
    "\n",
    "report_dtc = classification_report(y_test, y_pred_dtc)\n",
    "\n",
    "print('\\nInforme de Classificació - DTC:')\n",
    "print(report_dtc)"
   ]
  },
  {
   "cell_type": "markdown",
   "id": "48f09608",
   "metadata": {},
   "source": [
    "En comparació amb KNN, DTC té resultats més alts en totes les mètriques, incloent-hi precisió, recall i F1-score. DTC té una precisió global del 92%, indicant un millor rendiment que KNN, que en té del 69%. DTC mostra un bon equilibri entre precision i recall per a totes les classes, mentre que KNN té algunes limitacions, especialment a la classe 3. Segons aquest informe de classificació, DTC supera a KNN en termes de rendiment."
   ]
  },
  {
   "cell_type": "markdown",
   "id": "159090bc",
   "metadata": {},
   "source": [
    "### Exercici 3\n",
    "***\n",
    "Entrena’ls usant els diferents paràmetres que admeten per tal de millorar-ne la predicció."
   ]
  },
  {
   "cell_type": "markdown",
   "id": "361db02a",
   "metadata": {},
   "source": [
    "#### K-Nearest-Neighbors (KNN)"
   ]
  },
  {
   "cell_type": "code",
   "execution_count": 20,
   "id": "d2625035",
   "metadata": {},
   "outputs": [
    {
     "data": {
      "text/plain": [
       "{'algorithm': 'auto',\n",
       " 'leaf_size': 30,\n",
       " 'metric': 'minkowski',\n",
       " 'metric_params': None,\n",
       " 'n_jobs': None,\n",
       " 'n_neighbors': 3,\n",
       " 'p': 2,\n",
       " 'weights': 'uniform'}"
      ]
     },
     "execution_count": 20,
     "metadata": {},
     "output_type": "execute_result"
    }
   ],
   "source": [
    "# Paràmetres KNN\n",
    "\n",
    "knn.get_params()"
   ]
  },
  {
   "cell_type": "code",
   "execution_count": 45,
   "id": "b56856db",
   "metadata": {
    "scrolled": true
   },
   "outputs": [
    {
     "name": "stdout",
     "output_type": "stream",
     "text": [
      "Model KNN\n",
      "Millors paràmetres: {'n_neighbors': 3, 'p': 1, 'weights': 'distance'}\n",
      "Accuracy: 83.3%\n"
     ]
    }
   ],
   "source": [
    "# Definició els paràmetres per a KNN\n",
    "param_grid = {'n_neighbors': [3, 5, 7, 9],         \n",
    "              'weights': ['uniform', 'distance'],\n",
    "              'p': [1, 2]}\n",
    "\n",
    "# GridSearchCV\n",
    "knn = KNeighborsClassifier()\n",
    "grid_search = GridSearchCV(knn, param_grid, cv=5, scoring='accuracy')\n",
    "\n",
    "# Entrena el model amb les diferents combinacions de paràmetres\n",
    "grid_search.fit(X_train, y_train)\n",
    "\n",
    "# Trobar les millors combinacions de paràmetres\n",
    "best_param = grid_search.best_params_\n",
    "\n",
    "# Obtenir el model amb els millors paràmetres\n",
    "best_knn = grid_search.best_estimator_\n",
    "\n",
    "# Avaluar el model amb les dades de prova\n",
    "y_pred_knn2 = best_knn.predict(X_test)\n",
    "\n",
    "accuracy_knn2 = accuracy_score(y_test, y_pred_knn2)\n",
    "\n",
    "print ('Model KNN')\n",
    "print(f'Millors paràmetres: {best_params}')\n",
    "print(f'Accuracy: {accuracy_knn2:.1%}')"
   ]
  },
  {
   "cell_type": "markdown",
   "id": "f557c59e",
   "metadata": {},
   "source": [
    "Després d'optimitzar el model KNN amb els millors paràmetres, ha demostrat un alt nivell de precisió amb una taxa d'exactitud del 83.3%. Si ho comparem amb el model sense optimitzar (precisió del 69.4%), veiem que ha millorat considerablement la seva predicció."
   ]
  },
  {
   "cell_type": "markdown",
   "id": "35953c66",
   "metadata": {},
   "source": [
    "#### Decision Tree Classifier (DTC)"
   ]
  },
  {
   "cell_type": "code",
   "execution_count": 23,
   "id": "064b4c10",
   "metadata": {},
   "outputs": [
    {
     "data": {
      "text/plain": [
       "{'ccp_alpha': 0.0,\n",
       " 'class_weight': None,\n",
       " 'criterion': 'gini',\n",
       " 'max_depth': None,\n",
       " 'max_features': None,\n",
       " 'max_leaf_nodes': None,\n",
       " 'min_impurity_decrease': 0.0,\n",
       " 'min_samples_leaf': 1,\n",
       " 'min_samples_split': 2,\n",
       " 'min_weight_fraction_leaf': 0.0,\n",
       " 'random_state': 3,\n",
       " 'splitter': 'best'}"
      ]
     },
     "execution_count": 23,
     "metadata": {},
     "output_type": "execute_result"
    }
   ],
   "source": [
    "# Paràmetres DTC\n",
    "\n",
    "dtc.get_params()"
   ]
  },
  {
   "cell_type": "code",
   "execution_count": 46,
   "id": "66e55622",
   "metadata": {},
   "outputs": [
    {
     "name": "stdout",
     "output_type": "stream",
     "text": [
      "Model DTC\n",
      "Millors paràmetres: {'criterion': 'entropy', 'max_depth': 20, 'min_samples_leaf': 1, 'min_samples_split': 2}\n",
      "Accuracy: 100.0%\n"
     ]
    }
   ],
   "source": [
    "# Definició els paràmetres per a DTC\n",
    "param_grid = {'criterion': ['gini', 'entropy'],      \n",
    "              'max_depth': [None, 10, 20, 30, 40],\n",
    "              'min_samples_split': [2, 5, 10],\n",
    "              'min_samples_leaf': [1, 2, 4]}\n",
    "\n",
    "# GridSearchCV\n",
    "dtc = DecisionTreeClassifier()\n",
    "grid_search2 = GridSearchCV(dtc, param_grid, cv=5, scoring='accuracy')\n",
    "\n",
    "# Entrena el model amb les diferents combinacions de paràmetres\n",
    "grid_search2.fit(X_train, y_train)\n",
    "\n",
    "# Trobar les millors combinacions de paràmetres\n",
    "best_params2 = grid_search2.best_params_\n",
    "\n",
    "# Obtenir el model amb els millors paràmetres\n",
    "best_dtc = grid_search2.best_estimator_\n",
    "\n",
    "# Avaluar el model amb les dades de prova\n",
    "y_pred_dtc2 = best_dtc.predict(X_test)\n",
    "\n",
    "accuracy_dtc2 = accuracy_score(y_test, y_pred_dtc2)\n",
    "\n",
    "print ('Model DTC')\n",
    "print(f'Millors paràmetres: {best_params2}')\n",
    "print(f'Accuracy: {accuracy_dtc2:.1%}')"
   ]
  },
  {
   "cell_type": "markdown",
   "id": "ee3425bf",
   "metadata": {},
   "source": [
    "Un 'accuracy' del 100% suggereix que el model està fent prediccions correctes en tots els casos. Encara que el model mostra un rendiment sòlid, és important considerar la possibilitat de sobreajust o biaix en el conjunt de dades. Aquest resultats poden ser deguts als següents casos:\n",
    "\n",
    "- Overfitting: el model s'ha ajustat massa a les dades d'entrenament i ha capturat el soroll en lloc de patrons genuïns. Aquest sobreajust pot portar a un rendiment deficient en dades no vistes.\n",
    "\n",
    "- Paràmetres Optimitzats: poden haver millorat significativament el rendiment.\n",
    "\n",
    "Validar el model en un conjunt de prova independent és essencial per a avaluar la seva capacitat de generalització."
   ]
  },
  {
   "cell_type": "markdown",
   "id": "9510cc80",
   "metadata": {},
   "source": [
    "### Exercici 4\n",
    "***\n",
    "Compara el seu rendiment fent servir l’aproximació traint/test o cross-validation."
   ]
  },
  {
   "cell_type": "code",
   "execution_count": 47,
   "id": "1b2cbc90",
   "metadata": {},
   "outputs": [
    {
     "name": "stdout",
     "output_type": "stream",
     "text": [
      "Model KNN\n",
      "Accuracy: [0.639 0.694 0.667 0.657 0.857]\n",
      "Mitjana Accuracy: 0.703\n",
      "Desviació estàndard Accuracy: 0.079\n",
      "\n",
      "Model DTC\n",
      "Accuracy: [0.639 0.694 0.667 0.657 0.857]\n",
      "Mitjana Accuracy: 0.899\n",
      "Desviació estàndard Accuracy: 0.038\n"
     ]
    }
   ],
   "source": [
    "# Crear el model\n",
    "model_knn = KNeighborsClassifier(n_neighbors=3, weights='uniform', p=2)\n",
    "\n",
    "# Cross-validation\n",
    "scores_knn = cross_val_score(model_knn, X, y, cv=5, scoring='accuracy').round(3)\n",
    "\n",
    "# Resultats per cada fold\n",
    "print('Model KNN')\n",
    "print('Accuracy:', scores_knn)\n",
    "\n",
    "# Calcular la mitjana\n",
    "accuracy_mean = scores_knn.mean().round(3)\n",
    "accuracy_std = scores_knn.std().round(3)\n",
    "\n",
    "print('Mitjana Accuracy:', accuracy_mean)\n",
    "print('Desviació estàndard Accuracy:', accuracy_std)\n",
    "\n",
    "\n",
    "# Crear el model\n",
    "model_dtc = DecisionTreeClassifier(criterion='entropy', max_depth=20,  min_samples_split=2, min_samples_leaf=1)\n",
    "\n",
    "# Cross-validation\n",
    "scores_dtc = cross_val_score(model_dtc, X, y, cv=5, scoring='accuracy').round(3)\n",
    "\n",
    "# Resultats per cada fold\n",
    "print('\\nModel DTC')\n",
    "print('Accuracy:', scores_knn)\n",
    "\n",
    "# Calcular la mitjana\n",
    "accuracy_mean_dtc = scores_dtc.mean().round(3)\n",
    "accuracy_std_dtc = scores_dtc.std().round(3)\n",
    "\n",
    "print('Mitjana Accuracy:', accuracy_mean_dtc)\n",
    "print('Desviació estàndard Accuracy:', accuracy_std_dtc)"
   ]
  },
  {
   "cell_type": "markdown",
   "id": "a8574df7",
   "metadata": {},
   "source": [
    "- **KNN:** Encara que els millors paràmetres indicaven un 'accuracy' del 83.3%, el rendiment en la validació creuada és més baix. Això suggereix que el model KNN amb aquests paràmetres pot no generalitzar tan bé com s'esperava en noves dades. També pot indicar que el model no era competament precís (podría ser degut a una quantitat insuficient de dades o a la multicolinealitat).\n",
    "\n",
    "- **DTC:** Té millors paràmetres i mostra un 'accuracy' inicial del 100.0%. Tot i que ha disminuït, el rendiment es manté alt en la cross-validation, amb una mitjana del 89.9%. Això indica que el model DTC amb els nous paràmetres també generalitza bé i és més robust que el model KNN en aquest conjunt de dades i configuració. Tot i això, també pot indicar que el model no era completament precís com en l'altre cas.\n",
    "\n",
    "La desviació estàndard en tots dos casos continua sent relativament baixa, indicant consistència en el rendiment entre els diferents 'folds' de la cross-validation.\n",
    "\n",
    "En general, el model DTC sembla ser més robust i generalitzar millor que el model KNN en aquest cas específic. La selecció de paràmetres millorada per al model DTC sembla haver tingut un impacte positiu en el seu rendiment."
   ]
  },
  {
   "cell_type": "markdown",
   "id": "ee5832c5",
   "metadata": {},
   "source": [
    "### Exercici 5\n",
    "***\n",
    "Aplica algun procés d'enginyeria per millorar els resultats (normalització, estandardització, mostreig...)"
   ]
  },
  {
   "cell_type": "code",
   "execution_count": null,
   "id": "039d9dd9",
   "metadata": {},
   "outputs": [],
   "source": []
  }
 ],
 "metadata": {
  "kernelspec": {
   "display_name": "Python 3 (ipykernel)",
   "language": "python",
   "name": "python3"
  },
  "language_info": {
   "codemirror_mode": {
    "name": "ipython",
    "version": 3
   },
   "file_extension": ".py",
   "mimetype": "text/x-python",
   "name": "python",
   "nbconvert_exporter": "python",
   "pygments_lexer": "ipython3",
   "version": "3.10.9"
  }
 },
 "nbformat": 4,
 "nbformat_minor": 5
}
